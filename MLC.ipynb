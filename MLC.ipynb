{
  "nbformat": 4,
  "nbformat_minor": 0,
  "metadata": {
    "colab": {
      "name": "MLC.ipynb",
      "provenance": [],
      "collapsed_sections": [],
      "authorship_tag": "ABX9TyMpnJ4kSe+VHHVdcnVgMdw8",
      "include_colab_link": true
    },
    "kernelspec": {
      "name": "python3",
      "display_name": "Python 3"
    }
  },
  "cells": [
    {
      "cell_type": "markdown",
      "metadata": {
        "id": "view-in-github",
        "colab_type": "text"
      },
      "source": [
        "<a href=\"https://colab.research.google.com/github/studorache/MLC/blob/master/MLC.ipynb\" target=\"_parent\"><img src=\"https://colab.research.google.com/assets/colab-badge.svg\" alt=\"Open In Colab\"/></a>"
      ]
    },
    {
      "cell_type": "markdown",
      "metadata": {
        "id": "yxcGhVpShvyY",
        "colab_type": "text"
      },
      "source": [
        ""
      ]
    },
    {
      "cell_type": "code",
      "metadata": {
        "id": "R5dCar9jMT5z",
        "colab_type": "code",
        "colab": {}
      },
      "source": [
        "!pip install --upgrade kaggle\n",
        "from google.colab import files\n",
        "\n",
        "uploaded = files.upload()\n",
        "\n",
        "for fn in uploaded.keys():\n",
        "  print(f'User uploaded file \"{fn}\" with length {len(uploaded[fn])} bytes')\n",
        "  \n",
        "# Then move kaggle.json into the folder where the API expects to find it.\n",
        "!mkdir -p ~/.kaggle/ && mv kaggle.json ~/.kaggle/ && chmod 600 ~/.kaggle/kaggle.json\n",
        "\n",
        "# Scikit-Learn ≥0.20 is required\n",
        "import sklearn\n",
        "assert sklearn.__version__ >= \"0.20\"\n",
        "\n",
        "# Common imports\n",
        "import numpy as np\n",
        "import pandas as pd\n",
        "import os\n",
        "\n",
        "#download data\n",
        "!kaggle competitions download -c ml-challenge-week6\n",
        "\n",
        "#unzip data\n",
        "!unzip census-income.data.zip\n",
        "!unzip census-income.test.zip\n",
        "\n",
        "#create panda dataframe from training data\n",
        "import pandas as pd \n",
        "\n"
      ],
      "execution_count": 0,
      "outputs": []
    },
    {
      "cell_type": "code",
      "metadata": {
        "id": "IuyGsi3QiGEY",
        "colab_type": "code",
        "colab": {}
      },
      "source": [
        "initial_train_df = pd.read_csv('census-income.data', header=None,sep=',')\n",
        "final_test_df = pd.read_csv('census-income.test', header=None,sep=',')"
      ],
      "execution_count": 0,
      "outputs": []
    },
    {
      "cell_type": "code",
      "metadata": {
        "id": "JmCjHQ1fd6VW",
        "colab_type": "code",
        "colab": {}
      },
      "source": [
        "#get cols names\n",
        "lines = open(\"census-income.names\", \"r\").readlines()\n",
        "i = 0\n",
        "col_names = []\n",
        "while i < len(lines):\n",
        "    if i >= 81 and i<= 120:\n",
        "      s = lines[i]\n",
        "      col_names.append(s[s.find(\"(\")+1:s.find(\")\")])\n",
        "    i += 1\n",
        "col_names.insert(col_names.index('detailed household summary in household')+1, 'instance weight') "
      ],
      "execution_count": 0,
      "outputs": []
    },
    {
      "cell_type": "code",
      "metadata": {
        "id": "DZdBrSwkjmxw",
        "colab_type": "code",
        "colab": {}
      },
      "source": [
        "#Append cols list to test panda\n",
        "final_test_df.columns = col_names\n",
        "\n",
        "col_names.append('income class')\n",
        "#Append cols list to train panda\n",
        "initial_train_df.columns = col_names"
      ],
      "execution_count": 0,
      "outputs": []
    },
    {
      "cell_type": "code",
      "metadata": {
        "id": "gYaVxBcqyfM2",
        "colab_type": "code",
        "colab": {}
      },
      "source": [
        "categories_to_encode = [\"class of worker\", \"education\", \"enroll in edu inst last wk\", \"marital stat\", \n",
        "                       \"major industry code\", \"major occupation code\", \"race\", \"hispanic origin\", \"sex\", \n",
        "                       \"member of a labor union\", \"reason for unemployment\", \"full or part time employment stat\", \n",
        "                       \"tax filer stat\", \"region of previous residence\", \"state of previous residence\", \n",
        "                       \"detailed household and family stat\", \"detailed household summary in household\", \n",
        "                       \"migration code-change in msa\", \"migration code-change in reg\", \n",
        "                       \"migration code-move within reg\", \"live in this house 1 year ago\", \n",
        "                       \"migration prev res in sunbelt\", \"family members under 18\", \"country of birth father\", \n",
        "                       \"country of birth mother\", \"country of birth self\", \"citizenship\", \n",
        "                       \"fill inc questionnaire for veteran's admin\" ]\n",
        "\n",
        "for cat in categories_to_encode:\n",
        "  initial_train_df[cat] = initial_train_df[cat].astype('category')\n",
        "  initial_train_df[cat] = initial_train_df[cat].cat.codes\n",
        "\n",
        "for cat in categories_to_encode:\n",
        "  final_test_df[cat] = final_test_df[cat].astype('category')\n",
        "  final_test_df[cat] = final_test_df[cat].cat.codes\n",
        "\n",
        "\n",
        "initial_train_df[\"income class\"] = initial_train_df[\"income class\"].astype('category')\n",
        "initial_train_df[\"income class\"] = initial_train_df[\"income class\"].cat.codes\n"
      ],
      "execution_count": 0,
      "outputs": []
    },
    {
      "cell_type": "code",
      "metadata": {
        "id": "Oqo6JZk8hrWR",
        "colab_type": "code",
        "colab": {}
      },
      "source": [
        "from sklearn.model_selection import train_test_split\n",
        "train_set, test_set = train_test_split(initial_train_df, test_size=0.2, random_state=42)"
      ],
      "execution_count": 0,
      "outputs": []
    },
    {
      "cell_type": "code",
      "metadata": {
        "id": "JoiemSpA-xt2",
        "colab_type": "code",
        "colab": {}
      },
      "source": [
        "\n",
        "X_train = train_set.drop(['income class'], axis=1)\n",
        "y_train =train_set['income class']\n"
      ],
      "execution_count": 0,
      "outputs": []
    },
    {
      "cell_type": "code",
      "metadata": {
        "id": "7I84DBja8-Dp",
        "colab_type": "code",
        "colab": {}
      },
      "source": [
        "from sklearn.ensemble import RandomForestClassifier\n",
        "from sklearn.model_selection import RandomizedSearchCV\n",
        "\n",
        "# Create the parameter grid\n",
        "param_grid = {'max_depth': list(range(5,26)), 'max_features': [\"auto\", \"sqrt\", \"log2\", None]} \n",
        "\n",
        "# Create a random search object\n",
        "model = RandomizedSearchCV(\n",
        "    estimator = RandomForestClassifier(n_estimators=80, random_state=42),\n",
        "    param_distributions = param_grid, n_iter = 5,\n",
        "    scoring='roc_auc', n_jobs=4, cv = 3, refit=True, return_train_score = True)\n",
        "\n"
      ],
      "execution_count": 0,
      "outputs": []
    },
    {
      "cell_type": "code",
      "metadata": {
        "id": "2SvujwziZcfa",
        "colab_type": "code",
        "colab": {}
      },
      "source": [
        "from sklearn.tree import DecisionTreeClassifier\n",
        "model = DecisionTreeClassifier(criterion = \"gini\", random_state = 100,\n",
        "                               max_depth=5, min_samples_leaf=5)\n",
        "# Fit to the training data\n",
        "model.fit(X_train, y_train)"
      ],
      "execution_count": 0,
      "outputs": []
    },
    {
      "cell_type": "code",
      "metadata": {
        "id": "8_UhHXIB9129",
        "colab_type": "code",
        "colab": {}
      },
      "source": [
        "\n",
        "\n",
        "from sklearn.metrics import accuracy_score, confusion_matrix\n",
        "\n"
      ],
      "execution_count": 0,
      "outputs": []
    },
    {
      "cell_type": "code",
      "metadata": {
        "id": "_-OiKP8J-mty",
        "colab_type": "code",
        "colab": {}
      },
      "source": [
        "X_test = test_df\n",
        "X_pred = model.predict(X_test)"
      ],
      "execution_count": 0,
      "outputs": []
    },
    {
      "cell_type": "code",
      "metadata": {
        "id": "TeNW8YqKKy7o",
        "colab_type": "code",
        "colab": {}
      },
      "source": [
        "result = pd.DataFrame(X_pred)\n",
        "#result.insert(0, 'index', result.index)\n",
        "result.columns= ['income class']\n",
        "result.to_csv('result.csv', index=True, index_label='index')"
      ],
      "execution_count": 0,
      "outputs": []
    },
    {
      "cell_type": "code",
      "metadata": {
        "id": "Gy9gjQHTPY84",
        "colab_type": "code",
        "outputId": "ce8a08e1-1131-414d-e2c0-a951b55a0af6",
        "colab": {
          "base_uri": "https://localhost:8080/",
          "height": 68
        }
      },
      "source": [
        "!kaggle competitions submit -c ml-challenge-week6 -f result.csv -m \"First try.\""
      ],
      "execution_count": 0,
      "outputs": [
        {
          "output_type": "stream",
          "text": [
            "Warning: Looks like you're using an outdated API Version, please consider updating (server 1.5.6 / client 1.5.4)\n",
            "100% 769k/769k [00:01<00:00, 645kB/s] \n",
            "Successfully submitted to ML Challenge"
          ],
          "name": "stdout"
        }
      ]
    }
  ]
}